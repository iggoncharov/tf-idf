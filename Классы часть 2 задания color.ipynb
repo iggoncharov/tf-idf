{
 "cells": [
  {
   "cell_type": "markdown",
   "metadata": {},
   "source": [
    "##  вывод цвета"
   ]
  },
  {
   "cell_type": "code",
   "execution_count": 25,
   "metadata": {
    "ExecuteTime": {
     "end_time": "2021-12-16T14:11:21.503944Z",
     "start_time": "2021-12-16T14:11:21.492952Z"
    }
   },
   "outputs": [
    {
     "name": "stdout",
     "output_type": "stream",
     "text": [
      "\u001b[1;38;2;255;0;0m●\u001b[0m\n"
     ]
    }
   ],
   "source": [
    "#1 вывод цвета\n",
    "class Color:\n",
    "    END = '\\033[0'\n",
    "    START = '\\033[1;38;2'\n",
    "    MOD = 'm'\n",
    "\n",
    "    def __init__(self, red, green, blue):\n",
    "        self.red = red\n",
    "        self.green = green\n",
    "        self.blue = blue\n",
    "        \n",
    "    def __str__(self):\n",
    "        return f'{self.START};{self.red};{self.green};{self.blue}{self.MOD}●{self.END}{self.MOD}'\n",
    "        \n",
    "\n",
    "if __name__ == '__main__':\n",
    "    red = Color(255, 0, 0)\n",
    "    print(red)"
   ]
  },
  {
   "cell_type": "markdown",
   "metadata": {},
   "source": [
    "##  сравнение цветов"
   ]
  },
  {
   "cell_type": "code",
   "execution_count": 26,
   "metadata": {
    "ExecuteTime": {
     "end_time": "2021-12-16T14:11:22.318568Z",
     "start_time": "2021-12-16T14:11:22.300579Z"
    }
   },
   "outputs": [
    {
     "name": "stdout",
     "output_type": "stream",
     "text": [
      "\u001b[1;38;2;255;0;0m●\u001b[0m\n",
      "True\n",
      "False\n"
     ]
    }
   ],
   "source": [
    "#2 сравнение цветов\n",
    "class Color:\n",
    "    END = '\\033[0'\n",
    "    START = '\\033[1;38;2'\n",
    "    MOD = 'm'\n",
    "\n",
    "    def __init__(self, red, green, blue):\n",
    "        self.red = red\n",
    "        self.green = green\n",
    "        self.blue = blue\n",
    "        \n",
    "    def __str__(self):\n",
    "        return f'{self.START};{self.red};{self.green};{self.blue}{self.MOD}●{self.END}{self.MOD}'\n",
    "    \n",
    "    def __eq__(self, other):\n",
    "        if self.red == other.red and self.green == other.green and self.blue == other.blue:\n",
    "            return True\n",
    "        else:\n",
    "            return False\n",
    "    # или сравнить строки\n",
    "    \n",
    "    \n",
    "    \n",
    "if __name__ == '__main__':\n",
    "    red_point = Color(255, 0, 0)\n",
    "    print(red_point)\n",
    "    c1 = Color(255, 0, 0)\n",
    "    c2 = Color(255, 0, 0)\n",
    "    c3 = Color(255, 1, 0)\n",
    "    print(c1==c2)\n",
    "    print(c1 == c3)"
   ]
  },
  {
   "cell_type": "markdown",
   "metadata": {},
   "source": [
    "## смешивание цветов"
   ]
  },
  {
   "cell_type": "code",
   "execution_count": 27,
   "metadata": {
    "ExecuteTime": {
     "end_time": "2021-12-16T14:11:22.948579Z",
     "start_time": "2021-12-16T14:11:22.931590Z"
    }
   },
   "outputs": [
    {
     "name": "stdout",
     "output_type": "stream",
     "text": [
      "\u001b[1;38;2;255;0;0m●\u001b[0m\n",
      "True\n",
      "False\n",
      "\u001b[1;38;2;255;0;255m●\u001b[0m\n"
     ]
    }
   ],
   "source": [
    "class Color:\n",
    "    END = '\\033[0'\n",
    "    START = '\\033[1;38;2'\n",
    "    MOD = 'm'\n",
    "\n",
    "    def __init__(self, red, green, blue):\n",
    "        self.red = red\n",
    "        self.green = green\n",
    "        self.blue = blue\n",
    "        \n",
    "    def __str__(self):\n",
    "        return f'{self.START};{self.red};{self.green};{self.blue}{self.MOD}●{self.END}{self.MOD}'\n",
    "    \n",
    "    def __eq__(self, other):\n",
    "        if self.red == other.red and self.green == other.green and self.blue == other.blue:\n",
    "            return True\n",
    "        else:\n",
    "            return False\n",
    "    def __repr__(self):\n",
    "        return f'{self.START};{self.red};{self.green};{self.blue}{self.MOD}●{self.END}{self.MOD}'\n",
    "        \n",
    "    def __add__(self, other):\n",
    "        res = Color(self.red + other.red, self.green + other.green, self.blue + other.blue)\n",
    "        return res\n",
    "    # или сравнить строки\n",
    "    \n",
    "    \n",
    "    \n",
    "if __name__ == '__main__':\n",
    "    red_point = Color(255, 0, 0)\n",
    "    print(red_point)\n",
    "    c1 = Color(255, 0, 0)\n",
    "    c2 = Color(255, 0, 0)\n",
    "    c3 = Color(255, 1, 0)\n",
    "    print(c1==c2)\n",
    "    print(c1 == c3)\n",
    "    \n",
    "    s_point = Color(0, 0, 255)\n",
    "    d_point = Color(255, 0, 0)\n",
    "    print(s_point + d_point)"
   ]
  },
  {
   "cell_type": "markdown",
   "metadata": {},
   "source": [
    "## уникальные цвета"
   ]
  },
  {
   "cell_type": "code",
   "execution_count": 28,
   "metadata": {
    "ExecuteTime": {
     "end_time": "2021-12-16T14:11:23.578962Z",
     "start_time": "2021-12-16T14:11:23.563972Z"
    }
   },
   "outputs": [
    {
     "name": "stdout",
     "output_type": "stream",
     "text": [
      "\u001b[1;38;2;255;0;0m●\u001b[0m\n",
      "True\n",
      "False\n",
      "\u001b[1;38;2;255;0;255m●\u001b[0m\n",
      "{\u001b[1;38;2;255;200;0m●\u001b[0m, \u001b[1;38;2;255;0;0m●\u001b[0m}\n",
      "-5289218996864325999\n"
     ]
    }
   ],
   "source": [
    "class Color:\n",
    "    END = '\\033[0'\n",
    "    START = '\\033[1;38;2'\n",
    "    MOD = 'm'\n",
    "\n",
    "    def __init__(self, red, green, blue):\n",
    "        self.red = red\n",
    "        self.green = green\n",
    "        self.blue = blue\n",
    "        \n",
    "    def __repr__(self):\n",
    "        return f'{self.START};{self.red};{self.green};{self.blue}{self.MOD}●{self.END}{self.MOD}'\n",
    "    \n",
    "    def __str__(self):\n",
    "        return f'{self.START};{self.red};{self.green};{self.blue}{self.MOD}●{self.END}{self.MOD}'\n",
    "    \n",
    "    def __eq__(self, other):\n",
    "        if self.red == other.red and self.green == other.green and self.blue == other.blue:\n",
    "            return True\n",
    "        else:\n",
    "            return False\n",
    "    # или сравнить строки\n",
    "        \n",
    "    def __add__(self, other):\n",
    "        res = Color(self.red + other.red, self.green + other.green, self.blue + other.blue)\n",
    "        return res\n",
    "    \n",
    "    def __hash__(self):\n",
    "        return hash((self.red, self.green, self.blue))\n",
    "    \n",
    "if __name__ == '__main__':\n",
    "    red_point = Color(255, 0, 0)\n",
    "    print(red_point)\n",
    "    c1 = Color(255, 0, 0)\n",
    "    c2 = Color(255, 0, 0)\n",
    "    c3 = Color(255, 1, 0)\n",
    "    print(c1==c2)\n",
    "    print(c1 == c3)\n",
    "    \n",
    "    s_point = Color(0, 0, 255)\n",
    "    d_point = Color(255, 0, 0)\n",
    "    print(s_point + d_point)\n",
    "    \n",
    "    orange1 = Color(255, 0, 0)\n",
    "    orange2 = Color(255, 0, 0)\n",
    "    c1 = Color(255, 200, 0)\n",
    "    c2 = Color(255, 0, 0)\n",
    "    c3 = Color(255, 1, 0)\n",
    "    s = (orange1, orange2, c1, c2)\n",
    "    c = set(s)\n",
    "    print(c)\n",
    "    print(c1.__hash__())\n",
    "    "
   ]
  },
  {
   "cell_type": "markdown",
   "metadata": {},
   "source": [
    "## уменьшение контраста"
   ]
  },
  {
   "cell_type": "code",
   "execution_count": 29,
   "metadata": {
    "ExecuteTime": {
     "end_time": "2021-12-16T14:11:24.251885Z",
     "start_time": "2021-12-16T14:11:24.227901Z"
    }
   },
   "outputs": [
    {
     "name": "stdout",
     "output_type": "stream",
     "text": [
      "\u001b[1;38;2;250;250;0m●\u001b[0m\n",
      "\u001b[1;38;2;168;168;85m●\u001b[0m\n",
      "\u001b[1;38;2;168;168;85m●\u001b[0m\n"
     ]
    }
   ],
   "source": [
    "class Color:\n",
    "    END = '\\033[0'\n",
    "    START = '\\033[1;38;2'\n",
    "    MOD = 'm'\n",
    "\n",
    "    def __init__(self, red, green, blue):\n",
    "        self.red = red\n",
    "        self.green = green\n",
    "        self.blue = blue\n",
    "        \n",
    "    def __repr__(self):\n",
    "        return f'{self.START};{self.red};{self.green};{self.blue}{self.MOD}●{self.END}{self.MOD}'\n",
    "    \n",
    "    def __str__(self):\n",
    "        return f'{self.START};{self.red};{self.green};{self.blue}{self.MOD}●{self.END}{self.MOD}'\n",
    "    \n",
    "    def __eq__(self, other):\n",
    "        if self.red == other.red and self.green == other.green and self.blue == other.blue:\n",
    "            return True\n",
    "        else:\n",
    "            return False\n",
    "    # или сравнить строки\n",
    "        \n",
    "    def __add__(self, other):\n",
    "        res = Color(self.red + other.red, self.green + other.green, self.blue + other.blue)\n",
    "        return res\n",
    "    \n",
    "    def __hash__(self):\n",
    "        return hash((self.red, self.green, self.blue))\n",
    "    \n",
    "    def __mul__(self, c):\n",
    "        cl = -256*(1-c)\n",
    "        f = 259*(cl + 255)/((259-cl)*255)\n",
    "        \n",
    "        l_red = int(f*(self.red-129)+128)\n",
    "        l_green = int(f*(self.green-129)+128)\n",
    "        l_blue = int(f*(self.blue-129)+128)\n",
    "        \n",
    "        res = Color(l_red, l_green, l_blue)\n",
    "        return res\n",
    "    \n",
    "    #(умножение с любой строны)\n",
    "    def __rmul__(self, c):\n",
    "        return self.__mul__(c)\n",
    "        \n",
    "        \n",
    "    \n",
    "if __name__ == '__main__':\n",
    "    \n",
    "    orr = Color(250, 250, 0)\n",
    "    print(orr)\n",
    "    print(0.5 * orr)\n",
    "    print(orr * 0.5)"
   ]
  },
  {
   "cell_type": "markdown",
   "metadata": {},
   "source": [
    "## HSL"
   ]
  },
  {
   "cell_type": "code",
   "execution_count": 30,
   "metadata": {
    "ExecuteTime": {
     "end_time": "2021-12-16T14:11:24.864898Z",
     "start_time": "2021-12-16T14:11:24.850904Z"
    }
   },
   "outputs": [],
   "source": [
    "from abc import ABC, abstractmethod\n",
    "\n",
    "class ComputerColor(ABC):\n",
    "    \"\"\"\n",
    "    Абстрактный класс, который имеет абстрактные методы:\n",
    "    '__repr__', '__mul__', '__rmul__'\n",
    "    \"\"\"\n",
    "    @classmethod\n",
    "    @abstractmethod\n",
    "    def __repr__(self):\n",
    "        return \n",
    "    \n",
    "    @classmethod\n",
    "    @abstractmethod\n",
    "    def __mul__(self, other):\n",
    "        return \n",
    "    \n",
    "    @classmethod\n",
    "    @abstractmethod\n",
    "    def __rmul__(self, other):\n",
    "        return "
   ]
  },
  {
   "cell_type": "code",
   "execution_count": 31,
   "metadata": {
    "ExecuteTime": {
     "end_time": "2021-12-16T14:11:25.145846Z",
     "start_time": "2021-12-16T14:11:25.131856Z"
    }
   },
   "outputs": [
    {
     "name": "stdout",
     "output_type": "stream",
     "text": [
      "\u001b[1;38;2;250;250;0m●\u001b[0m\n",
      "\u001b[1;38;2;168;168;85m●\u001b[0m\n",
      "\u001b[1;38;2;168;168;85m●\u001b[0m\n"
     ]
    }
   ],
   "source": [
    "class Color(ComputerColor):\n",
    "    END = '\\033[0'\n",
    "    START = '\\033[1;38;2'\n",
    "    MOD = 'm'\n",
    "\n",
    "    def __init__(self, red, green, blue):\n",
    "        self.red = red\n",
    "        self.green = green\n",
    "        self.blue = blue\n",
    "        \n",
    "    def __repr__(self):\n",
    "        return f'{self.START};{self.red};{self.green};{self.blue}{self.MOD}●{self.END}{self.MOD}'\n",
    "    \n",
    "    def __str__(self):\n",
    "        return f'{self.START};{self.red};{self.green};{self.blue}{self.MOD}●{self.END}{self.MOD}'\n",
    "    \n",
    "    def __eq__(self, other):\n",
    "        if self.red == other.red and self.green == other.green and self.blue == other.blue:\n",
    "            return True\n",
    "        else:\n",
    "            return False\n",
    "    # или сравнить строки\n",
    "        \n",
    "    def __add__(self, other):\n",
    "        res = Color(self.red + other.red, self.green + other.green, self.blue + other.blue)\n",
    "        return res\n",
    "    \n",
    "    def __hash__(self):\n",
    "        return hash((self.red, self.green, self.blue))\n",
    "    \n",
    "    def __mul__(self, c):\n",
    "        cl = -256*(1-c)\n",
    "        f = 259*(cl + 255)/((259-cl)*255)\n",
    "        \n",
    "        l_red = int(f*(self.red-129)+128)\n",
    "        l_green = int(f*(self.green-129)+128)\n",
    "        l_blue = int(f*(self.blue-129)+128)\n",
    "        \n",
    "        res = Color(l_red, l_green, l_blue)\n",
    "        return res\n",
    "    \n",
    "    #(умножение с любой строны)\n",
    "    def __rmul__(self, c):\n",
    "        return self.__mul__(c)\n",
    "        \n",
    "        \n",
    "    \n",
    "if __name__ == '__main__':\n",
    "    \n",
    "    orr = Color(250, 250, 0)\n",
    "    print(orr)\n",
    "    print(0.5 * orr)\n",
    "    print(orr * 0.5)"
   ]
  },
  {
   "cell_type": "code",
   "execution_count": 32,
   "metadata": {
    "ExecuteTime": {
     "end_time": "2021-12-16T14:11:25.519885Z",
     "start_time": "2021-12-16T14:11:25.499897Z"
    }
   },
   "outputs": [],
   "source": [
    "def print_a(color: ComputerColor):\n",
    "    bg_color = 0.2 * color\n",
    "    a_matrix = [\n",
    "           [bg_color] * 19,\n",
    "           [bg_color] * 9 + [color] + [bg_color] * 9,\n",
    "           [bg_color] * 8 + [color] * 3 + [bg_color] * 8,\n",
    "           [bg_color] * 7 + [color] * 2 + [bg_color] + [color] * 2 + [bg_color] * 7,\n",
    "           [bg_color] * 6 + [color] * 2 + [bg_color] * 3 + [color] * 2 + [bg_color] * 6,\n",
    "           [bg_color] * 5 + [color] * 9 + [bg_color] * 5,\n",
    "           [bg_color] * 4 + [color] * 2 + [bg_color] * 7 + [color] * 2 + [bg_color] * 4,\n",
    "           [bg_color] * 3 + [color] * 2 + [bg_color] * 9 + [color] * 2 + [bg_color] * 3,\n",
    "           [bg_color] * 19,\n",
    "    ]\n",
    "    for row in a_matrix:\n",
    "        print(''.join(str(ptr) for ptr in row))\n"
   ]
  },
  {
   "cell_type": "code",
   "execution_count": 33,
   "metadata": {
    "ExecuteTime": {
     "end_time": "2021-12-16T14:11:25.877874Z",
     "start_time": "2021-12-16T14:11:25.867882Z"
    }
   },
   "outputs": [
    {
     "name": "stdout",
     "output_type": "stream",
     "text": [
      "\u001b[1;38;2;141;145;141m●\u001b[0m\u001b[1;38;2;141;145;141m●\u001b[0m\u001b[1;38;2;141;145;141m●\u001b[0m\u001b[1;38;2;141;145;141m●\u001b[0m\u001b[1;38;2;141;145;141m●\u001b[0m\u001b[1;38;2;141;145;141m●\u001b[0m\u001b[1;38;2;141;145;141m●\u001b[0m\u001b[1;38;2;141;145;141m●\u001b[0m\u001b[1;38;2;141;145;141m●\u001b[0m\u001b[1;38;2;141;145;141m●\u001b[0m\u001b[1;38;2;141;145;141m●\u001b[0m\u001b[1;38;2;141;145;141m●\u001b[0m\u001b[1;38;2;141;145;141m●\u001b[0m\u001b[1;38;2;141;145;141m●\u001b[0m\u001b[1;38;2;141;145;141m●\u001b[0m\u001b[1;38;2;141;145;141m●\u001b[0m\u001b[1;38;2;141;145;141m●\u001b[0m\u001b[1;38;2;141;145;141m●\u001b[0m\u001b[1;38;2;141;145;141m●\u001b[0m\n",
      "\u001b[1;38;2;141;145;141m●\u001b[0m\u001b[1;38;2;141;145;141m●\u001b[0m\u001b[1;38;2;141;145;141m●\u001b[0m\u001b[1;38;2;141;145;141m●\u001b[0m\u001b[1;38;2;141;145;141m●\u001b[0m\u001b[1;38;2;141;145;141m●\u001b[0m\u001b[1;38;2;141;145;141m●\u001b[0m\u001b[1;38;2;141;145;141m●\u001b[0m\u001b[1;38;2;141;145;141m●\u001b[0m\u001b[1;38;2;255;290;255m●\u001b[0m\u001b[1;38;2;141;145;141m●\u001b[0m\u001b[1;38;2;141;145;141m●\u001b[0m\u001b[1;38;2;141;145;141m●\u001b[0m\u001b[1;38;2;141;145;141m●\u001b[0m\u001b[1;38;2;141;145;141m●\u001b[0m\u001b[1;38;2;141;145;141m●\u001b[0m\u001b[1;38;2;141;145;141m●\u001b[0m\u001b[1;38;2;141;145;141m●\u001b[0m\u001b[1;38;2;141;145;141m●\u001b[0m\n",
      "\u001b[1;38;2;141;145;141m●\u001b[0m\u001b[1;38;2;141;145;141m●\u001b[0m\u001b[1;38;2;141;145;141m●\u001b[0m\u001b[1;38;2;141;145;141m●\u001b[0m\u001b[1;38;2;141;145;141m●\u001b[0m\u001b[1;38;2;141;145;141m●\u001b[0m\u001b[1;38;2;141;145;141m●\u001b[0m\u001b[1;38;2;141;145;141m●\u001b[0m\u001b[1;38;2;255;290;255m●\u001b[0m\u001b[1;38;2;255;290;255m●\u001b[0m\u001b[1;38;2;255;290;255m●\u001b[0m\u001b[1;38;2;141;145;141m●\u001b[0m\u001b[1;38;2;141;145;141m●\u001b[0m\u001b[1;38;2;141;145;141m●\u001b[0m\u001b[1;38;2;141;145;141m●\u001b[0m\u001b[1;38;2;141;145;141m●\u001b[0m\u001b[1;38;2;141;145;141m●\u001b[0m\u001b[1;38;2;141;145;141m●\u001b[0m\u001b[1;38;2;141;145;141m●\u001b[0m\n",
      "\u001b[1;38;2;141;145;141m●\u001b[0m\u001b[1;38;2;141;145;141m●\u001b[0m\u001b[1;38;2;141;145;141m●\u001b[0m\u001b[1;38;2;141;145;141m●\u001b[0m\u001b[1;38;2;141;145;141m●\u001b[0m\u001b[1;38;2;141;145;141m●\u001b[0m\u001b[1;38;2;141;145;141m●\u001b[0m\u001b[1;38;2;255;290;255m●\u001b[0m\u001b[1;38;2;255;290;255m●\u001b[0m\u001b[1;38;2;141;145;141m●\u001b[0m\u001b[1;38;2;255;290;255m●\u001b[0m\u001b[1;38;2;255;290;255m●\u001b[0m\u001b[1;38;2;141;145;141m●\u001b[0m\u001b[1;38;2;141;145;141m●\u001b[0m\u001b[1;38;2;141;145;141m●\u001b[0m\u001b[1;38;2;141;145;141m●\u001b[0m\u001b[1;38;2;141;145;141m●\u001b[0m\u001b[1;38;2;141;145;141m●\u001b[0m\u001b[1;38;2;141;145;141m●\u001b[0m\n",
      "\u001b[1;38;2;141;145;141m●\u001b[0m\u001b[1;38;2;141;145;141m●\u001b[0m\u001b[1;38;2;141;145;141m●\u001b[0m\u001b[1;38;2;141;145;141m●\u001b[0m\u001b[1;38;2;141;145;141m●\u001b[0m\u001b[1;38;2;141;145;141m●\u001b[0m\u001b[1;38;2;255;290;255m●\u001b[0m\u001b[1;38;2;255;290;255m●\u001b[0m\u001b[1;38;2;141;145;141m●\u001b[0m\u001b[1;38;2;141;145;141m●\u001b[0m\u001b[1;38;2;141;145;141m●\u001b[0m\u001b[1;38;2;255;290;255m●\u001b[0m\u001b[1;38;2;255;290;255m●\u001b[0m\u001b[1;38;2;141;145;141m●\u001b[0m\u001b[1;38;2;141;145;141m●\u001b[0m\u001b[1;38;2;141;145;141m●\u001b[0m\u001b[1;38;2;141;145;141m●\u001b[0m\u001b[1;38;2;141;145;141m●\u001b[0m\u001b[1;38;2;141;145;141m●\u001b[0m\n",
      "\u001b[1;38;2;141;145;141m●\u001b[0m\u001b[1;38;2;141;145;141m●\u001b[0m\u001b[1;38;2;141;145;141m●\u001b[0m\u001b[1;38;2;141;145;141m●\u001b[0m\u001b[1;38;2;141;145;141m●\u001b[0m\u001b[1;38;2;255;290;255m●\u001b[0m\u001b[1;38;2;255;290;255m●\u001b[0m\u001b[1;38;2;255;290;255m●\u001b[0m\u001b[1;38;2;255;290;255m●\u001b[0m\u001b[1;38;2;255;290;255m●\u001b[0m\u001b[1;38;2;255;290;255m●\u001b[0m\u001b[1;38;2;255;290;255m●\u001b[0m\u001b[1;38;2;255;290;255m●\u001b[0m\u001b[1;38;2;255;290;255m●\u001b[0m\u001b[1;38;2;141;145;141m●\u001b[0m\u001b[1;38;2;141;145;141m●\u001b[0m\u001b[1;38;2;141;145;141m●\u001b[0m\u001b[1;38;2;141;145;141m●\u001b[0m\u001b[1;38;2;141;145;141m●\u001b[0m\n",
      "\u001b[1;38;2;141;145;141m●\u001b[0m\u001b[1;38;2;141;145;141m●\u001b[0m\u001b[1;38;2;141;145;141m●\u001b[0m\u001b[1;38;2;141;145;141m●\u001b[0m\u001b[1;38;2;255;290;255m●\u001b[0m\u001b[1;38;2;255;290;255m●\u001b[0m\u001b[1;38;2;141;145;141m●\u001b[0m\u001b[1;38;2;141;145;141m●\u001b[0m\u001b[1;38;2;141;145;141m●\u001b[0m\u001b[1;38;2;141;145;141m●\u001b[0m\u001b[1;38;2;141;145;141m●\u001b[0m\u001b[1;38;2;141;145;141m●\u001b[0m\u001b[1;38;2;141;145;141m●\u001b[0m\u001b[1;38;2;255;290;255m●\u001b[0m\u001b[1;38;2;255;290;255m●\u001b[0m\u001b[1;38;2;141;145;141m●\u001b[0m\u001b[1;38;2;141;145;141m●\u001b[0m\u001b[1;38;2;141;145;141m●\u001b[0m\u001b[1;38;2;141;145;141m●\u001b[0m\n",
      "\u001b[1;38;2;141;145;141m●\u001b[0m\u001b[1;38;2;141;145;141m●\u001b[0m\u001b[1;38;2;141;145;141m●\u001b[0m\u001b[1;38;2;255;290;255m●\u001b[0m\u001b[1;38;2;255;290;255m●\u001b[0m\u001b[1;38;2;141;145;141m●\u001b[0m\u001b[1;38;2;141;145;141m●\u001b[0m\u001b[1;38;2;141;145;141m●\u001b[0m\u001b[1;38;2;141;145;141m●\u001b[0m\u001b[1;38;2;141;145;141m●\u001b[0m\u001b[1;38;2;141;145;141m●\u001b[0m\u001b[1;38;2;141;145;141m●\u001b[0m\u001b[1;38;2;141;145;141m●\u001b[0m\u001b[1;38;2;141;145;141m●\u001b[0m\u001b[1;38;2;255;290;255m●\u001b[0m\u001b[1;38;2;255;290;255m●\u001b[0m\u001b[1;38;2;141;145;141m●\u001b[0m\u001b[1;38;2;141;145;141m●\u001b[0m\u001b[1;38;2;141;145;141m●\u001b[0m\n",
      "\u001b[1;38;2;141;145;141m●\u001b[0m\u001b[1;38;2;141;145;141m●\u001b[0m\u001b[1;38;2;141;145;141m●\u001b[0m\u001b[1;38;2;141;145;141m●\u001b[0m\u001b[1;38;2;141;145;141m●\u001b[0m\u001b[1;38;2;141;145;141m●\u001b[0m\u001b[1;38;2;141;145;141m●\u001b[0m\u001b[1;38;2;141;145;141m●\u001b[0m\u001b[1;38;2;141;145;141m●\u001b[0m\u001b[1;38;2;141;145;141m●\u001b[0m\u001b[1;38;2;141;145;141m●\u001b[0m\u001b[1;38;2;141;145;141m●\u001b[0m\u001b[1;38;2;141;145;141m●\u001b[0m\u001b[1;38;2;141;145;141m●\u001b[0m\u001b[1;38;2;141;145;141m●\u001b[0m\u001b[1;38;2;141;145;141m●\u001b[0m\u001b[1;38;2;141;145;141m●\u001b[0m\u001b[1;38;2;141;145;141m●\u001b[0m\u001b[1;38;2;141;145;141m●\u001b[0m\n"
     ]
    }
   ],
   "source": [
    "print_a(Color(255, 290, 255))"
   ]
  }
 ],
 "metadata": {
  "kernelspec": {
   "display_name": "Python 3",
   "language": "python",
   "name": "python3"
  },
  "language_info": {
   "codemirror_mode": {
    "name": "ipython",
    "version": 3
   },
   "file_extension": ".py",
   "mimetype": "text/x-python",
   "name": "python",
   "nbconvert_exporter": "python",
   "pygments_lexer": "ipython3",
   "version": "3.8.5"
  },
  "toc": {
   "base_numbering": 1,
   "nav_menu": {},
   "number_sections": true,
   "sideBar": true,
   "skip_h1_title": false,
   "title_cell": "Table of Contents",
   "title_sidebar": "Contents",
   "toc_cell": false,
   "toc_position": {
    "height": "calc(100% - 180px)",
    "left": "10px",
    "top": "150px",
    "width": "165px"
   },
   "toc_section_display": true,
   "toc_window_display": true
  },
  "varInspector": {
   "cols": {
    "lenName": 16,
    "lenType": 16,
    "lenVar": 40
   },
   "kernels_config": {
    "python": {
     "delete_cmd_postfix": "",
     "delete_cmd_prefix": "del ",
     "library": "var_list.py",
     "varRefreshCmd": "print(var_dic_list())"
    },
    "r": {
     "delete_cmd_postfix": ") ",
     "delete_cmd_prefix": "rm(",
     "library": "var_list.r",
     "varRefreshCmd": "cat(var_dic_list()) "
    }
   },
   "types_to_exclude": [
    "module",
    "function",
    "builtin_function_or_method",
    "instance",
    "_Feature"
   ],
   "window_display": false
  }
 },
 "nbformat": 4,
 "nbformat_minor": 4
}
